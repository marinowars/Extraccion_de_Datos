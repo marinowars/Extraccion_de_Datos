{
  "nbformat": 4,
  "nbformat_minor": 0,
  "metadata": {
    "colab": {
      "provenance": [],
      "authorship_tag": "ABX9TyNVJpttcyFn/bAefbOHzjHT",
      "include_colab_link": true
    },
    "kernelspec": {
      "name": "python3",
      "display_name": "Python 3"
    },
    "language_info": {
      "name": "python"
    }
  },
  "cells": [
    {
      "cell_type": "markdown",
      "metadata": {
        "id": "view-in-github",
        "colab_type": "text"
      },
      "source": [
        "<a href=\"https://colab.research.google.com/github/marinowars/Extraccion_de_Datos/blob/main/1_Extracci%C3%B3n_Datos.ipynb\" target=\"_parent\"><img src=\"https://colab.research.google.com/assets/colab-badge.svg\" alt=\"Open In Colab\"/></a>"
      ]
    },
    {
      "cell_type": "code",
      "execution_count": 2,
      "metadata": {
        "id": "bGhQCiB9Fs5z"
      },
      "outputs": [],
      "source": [
        "#Importamos librerías requeridas\n",
        "import pandas as pd\n",
        "import numpy as np\n",
        "import matplotlib.pyplot as plt\n",
        "import seaborn as sns\n",
        "import io"
      ]
    },
    {
      "cell_type": "code",
      "source": [
        "#Cargar archivo csv desde equipo\n",
        "from google.colab import files\n",
        "files.upload()"
      ],
      "metadata": {
        "id": "zKwdfD-iGARW"
      },
      "execution_count": null,
      "outputs": []
    },
    {
      "cell_type": "code",
      "source": [
        "#Convertir en dataframe\n",
        "df=pd.read_csv(\"CountryTable.csv\")\n",
        "df\n"
      ],
      "metadata": {
        "id": "SQfGWonPGNts"
      },
      "execution_count": null,
      "outputs": []
    },
    {
      "cell_type": "code",
      "source": [
        "#Imprimimos las primeras filas o registros del Dataframe\n",
        "df.head(5)"
      ],
      "metadata": {
        "id": "LNnGS5P-GbEs"
      },
      "execution_count": null,
      "outputs": []
    },
    {
      "cell_type": "markdown",
      "source": [
        "**FILTROS BASICOS PARA VARIABLES CUALITATIVAS**"
      ],
      "metadata": {
        "id": "7PSDqGlbPaj8"
      }
    },
    {
      "cell_type": "code",
      "source": [
        "#Filtro por objeto 1\n",
        "filtro1a=df[df[\"continent\"] == \"Asia\"]\n",
        "filtro1a"
      ],
      "metadata": {
        "id": "Glsp6vRJGgQn"
      },
      "execution_count": null,
      "outputs": []
    },
    {
      "cell_type": "code",
      "source": [
        "#Filtro por objeto 2\n",
        "filtro1b=df[df[\"region\"] == \"Middle East\"]\n",
        "filtro1b"
      ],
      "metadata": {
        "id": "reSGh427HPPE"
      },
      "execution_count": null,
      "outputs": []
    },
    {
      "cell_type": "code",
      "source": [
        "#Filtro por filas 1\n",
        "filtro2a= df.iloc[0:99,: ]\n",
        "#filtro2a=df.iloc[[1000, 2000, 3000], : ]  #filas no consecutivas\n",
        "filtro2a"
      ],
      "metadata": {
        "id": "2L0-xrZJH5jd"
      },
      "execution_count": null,
      "outputs": []
    },
    {
      "cell_type": "code",
      "source": [
        "#Filtro por filas 2\n",
        "filtro2b= df.iloc[100:150,: ]\n",
        "#filtro2b=df.iloc[[1000, 2000, 3000], : ]  #filas no consecutivas\n",
        "filtro2b"
      ],
      "metadata": {
        "id": "95gyIwzMIDbi"
      },
      "execution_count": null,
      "outputs": []
    },
    {
      "cell_type": "code",
      "source": [
        "#Filtro por columnas 1\n",
        "#filtro3=df.iloc[ : , 4:6]\n",
        "filtro3a=df.iloc[ : , [1,4,6]] #columnas no consecutivas\n",
        "filtro3a"
      ],
      "metadata": {
        "id": "u619QUW-NAsa"
      },
      "execution_count": null,
      "outputs": []
    },
    {
      "cell_type": "code",
      "source": [
        "#Filtro por columnas 2\n",
        "#filtro3=df.iloc[ : , 4:6]\n",
        "filtro3b=df.iloc[ : , [2,3,5]] #columnas no consecutivas\n",
        "filtro3b"
      ],
      "metadata": {
        "id": "lBvl8fKVNIpr"
      },
      "execution_count": null,
      "outputs": []
    },
    {
      "cell_type": "code",
      "source": [
        "#Filtro por columnas y por filas 1\n",
        "filtro_mixa=df.iloc[ [10,20,50] , 2:5]\n",
        "#filtro3=df.iloc[ : , [1,4,6]] #columnas no consecutivas\n",
        "filtro_mixa"
      ],
      "metadata": {
        "id": "QvWyOb49NPsC"
      },
      "execution_count": null,
      "outputs": []
    },
    {
      "cell_type": "code",
      "source": [
        "#Filtro por columnas y por filas 2\n",
        "filtro_mixb=df.iloc[ [5,25,60] , 2:5]\n",
        "#filtro3=df.iloc[ : , [1,4,6]] #columnas no consecutivas\n",
        "filtro_mixb"
      ],
      "metadata": {
        "id": "SbzQAG6nNUkO"
      },
      "execution_count": null,
      "outputs": []
    },
    {
      "cell_type": "code",
      "source": [
        "#Filtro de filas vs columnas\n",
        "#Paso 1: Leemos el contenido del archivo\n",
        "from google.colab import files\n",
        "uploaded=files.upload()\n",
        "dfi = pd.read_csv(io.BytesIO(uploaded[\"CountryTable.csv\"]), index_col=2)\n",
        "dfi"
      ],
      "metadata": {
        "id": "B8d-oWcUNdNw"
      },
      "execution_count": null,
      "outputs": []
    },
    {
      "cell_type": "code",
      "source": [
        "#Paso 2:Aplicamos Filtro de filas vs columnas 1\n",
        "filtro4a=dfi.loc[[\"Asia\",\"Europe\",\"North America\",\"Africa\"],[\"population\"]]\n",
        "filtro4a"
      ],
      "metadata": {
        "id": "25TS2rxDNl-Y"
      },
      "execution_count": null,
      "outputs": []
    },
    {
      "cell_type": "code",
      "source": [
        "#Paso 2:Aplicamos Filtro de filas vs columnas 2\n",
        "filtro4b=dfi.loc[[\"Asia\",\"Europe\",\"North America\",\"Africa\"],[\"gnp\"]]\n",
        "filtro4b"
      ],
      "metadata": {
        "id": "PJ07Bfj7Ow10"
      },
      "execution_count": null,
      "outputs": []
    },
    {
      "cell_type": "code",
      "source": [
        "#Filtro por cabecera 1\n",
        "filtro5a=df.head()\n",
        "filtro5a"
      ],
      "metadata": {
        "id": "MUXwW31nPCKO"
      },
      "execution_count": null,
      "outputs": []
    },
    {
      "cell_type": "code",
      "source": [
        "#Filtro por cabecera 2\n",
        "filtro5b=df.head(19)\n",
        "filtro5b"
      ],
      "metadata": {
        "id": "qVtm6Z9bPKUw"
      },
      "execution_count": null,
      "outputs": []
    },
    {
      "cell_type": "markdown",
      "source": [
        "**FILTROS BASICOS PARA VARIABLES CUANTITATIVAS**"
      ],
      "metadata": {
        "id": "-6N1qR2-PgKS"
      }
    },
    {
      "cell_type": "code",
      "source": [
        "#Filtro por comparacion 1\n",
        "filtro6a=df[df[\"surface_area\"] >100000]\n",
        "filtro6a"
      ],
      "metadata": {
        "id": "hc3VPxk0PhH-"
      },
      "execution_count": null,
      "outputs": []
    },
    {
      "cell_type": "code",
      "source": [
        "#Filtro por comparacion 2\n",
        "filtro6b=df[df[\"surface_area\"] <100000]\n",
        "filtro6b"
      ],
      "metadata": {
        "id": "iR-tQN1-P9PQ"
      },
      "execution_count": null,
      "outputs": []
    },
    {
      "cell_type": "markdown",
      "source": [
        "**FILTROS BASICOS CON CONECTORES LOGICOS**"
      ],
      "metadata": {
        "id": "K9HeZWpTQJFZ"
      }
    },
    {
      "cell_type": "code",
      "source": [
        "#Filtro Y 1\n",
        "filtro7a=df[(df[\"surface_area\"] >100000) & (df[\"government_form\"] == \"Republic\")]\n",
        "filtro7a"
      ],
      "metadata": {
        "id": "Rm3W0L7vQJmw"
      },
      "execution_count": null,
      "outputs": []
    },
    {
      "cell_type": "code",
      "source": [
        "#Filtro Y 2\n",
        "filtro7b=df[(df[\"surface_area\"] >100000) & (df[\"government_form\"] == \"Islamic Emirate\")]\n",
        "filtro7b"
      ],
      "metadata": {
        "id": "C7THVdTfRLjT"
      },
      "execution_count": null,
      "outputs": []
    },
    {
      "cell_type": "code",
      "source": [
        "#Filtro o 1\n",
        "filtro8a=df[(df[\"surface_area\"] > 50000 ) | (df[\"government_form\"] == \"Republic\")]\n",
        "filtro8a"
      ],
      "metadata": {
        "id": "LTNzG9cER7Pe"
      },
      "execution_count": null,
      "outputs": []
    },
    {
      "cell_type": "code",
      "source": [
        "#Filtro o 2\n",
        "filtro8b=df[(df[\"surface_area\"] < 50000 ) | (df[\"government_form\"] == \"Islamic Emirate\")]\n",
        "filtro8b"
      ],
      "metadata": {
        "id": "qYfNbRPwSGIb"
      },
      "execution_count": null,
      "outputs": []
    },
    {
      "cell_type": "code",
      "source": [
        "#Filtro not 1\n",
        "filtro9a=df[~(df[\"surface_area\"] >= 50000) & ~(df[\"government_form\"] ==\"Republic\")]\n",
        "filtro9a"
      ],
      "metadata": {
        "id": "rVfaENFVSZIu"
      },
      "execution_count": null,
      "outputs": []
    },
    {
      "cell_type": "code",
      "source": [
        "#Filtro not 2\n",
        "filtro9b=df[~(df[\"surface_area\"] <= 50000) & ~(df[\"government_form\"] ==\"Islamic Emirate\")]\n",
        "filtro9b"
      ],
      "metadata": {
        "id": "DNjniTnGSrq-"
      },
      "execution_count": null,
      "outputs": []
    },
    {
      "cell_type": "code",
      "source": [
        "#Convertir archivo filtrado a CSV\n",
        "filtro9b.to_csv(\"Entregable1.csv\")"
      ],
      "metadata": {
        "id": "m73Wircl1Iql"
      },
      "execution_count": 76,
      "outputs": []
    },
    {
      "cell_type": "code",
      "source": [
        "#descargar archivo filtrado en csv\n",
        "from google.colab import files\n",
        "\n",
        "files.download(\"Entregable1.csv\")"
      ],
      "metadata": {
        "colab": {
          "base_uri": "https://localhost:8080/",
          "height": 17
        },
        "id": "cs_PlfW81KfH",
        "outputId": "ff65b313-95ef-4c23-9c4d-0146c0771d36"
      },
      "execution_count": 77,
      "outputs": [
        {
          "output_type": "display_data",
          "data": {
            "text/plain": [
              "<IPython.core.display.Javascript object>"
            ],
            "application/javascript": [
              "\n",
              "    async function download(id, filename, size) {\n",
              "      if (!google.colab.kernel.accessAllowed) {\n",
              "        return;\n",
              "      }\n",
              "      const div = document.createElement('div');\n",
              "      const label = document.createElement('label');\n",
              "      label.textContent = `Downloading \"${filename}\": `;\n",
              "      div.appendChild(label);\n",
              "      const progress = document.createElement('progress');\n",
              "      progress.max = size;\n",
              "      div.appendChild(progress);\n",
              "      document.body.appendChild(div);\n",
              "\n",
              "      const buffers = [];\n",
              "      let downloaded = 0;\n",
              "\n",
              "      const channel = await google.colab.kernel.comms.open(id);\n",
              "      // Send a message to notify the kernel that we're ready.\n",
              "      channel.send({})\n",
              "\n",
              "      for await (const message of channel.messages) {\n",
              "        // Send a message to notify the kernel that we're ready.\n",
              "        channel.send({})\n",
              "        if (message.buffers) {\n",
              "          for (const buffer of message.buffers) {\n",
              "            buffers.push(buffer);\n",
              "            downloaded += buffer.byteLength;\n",
              "            progress.value = downloaded;\n",
              "          }\n",
              "        }\n",
              "      }\n",
              "      const blob = new Blob(buffers, {type: 'application/binary'});\n",
              "      const a = document.createElement('a');\n",
              "      a.href = window.URL.createObjectURL(blob);\n",
              "      a.download = filename;\n",
              "      div.appendChild(a);\n",
              "      a.click();\n",
              "      div.remove();\n",
              "    }\n",
              "  "
            ]
          },
          "metadata": {}
        },
        {
          "output_type": "display_data",
          "data": {
            "text/plain": [
              "<IPython.core.display.Javascript object>"
            ],
            "application/javascript": [
              "download(\"download_366adf13-b45f-4732-97f2-5e46d2e934a8\", \"Entregable1.csv\", 17792)"
            ]
          },
          "metadata": {}
        }
      ]
    }
  ]
}